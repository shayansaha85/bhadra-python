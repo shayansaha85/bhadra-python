{
 "cells": [
  {
   "cell_type": "code",
   "execution_count": 2,
   "id": "e9b93acf",
   "metadata": {},
   "outputs": [
    {
     "name": "stdout",
     "output_type": "stream",
     "text": [
      "Hello\n"
     ]
    }
   ],
   "source": [
    "print(\"Hello\")"
   ]
  },
  {
   "cell_type": "code",
   "execution_count": 3,
   "id": "c226c88c",
   "metadata": {},
   "outputs": [
    {
     "name": "stdout",
     "output_type": "stream",
     "text": [
      "0\n",
      "1\n",
      "2\n",
      "3\n",
      "4\n"
     ]
    }
   ],
   "source": [
    "i = 0\n",
    "while i<5:\n",
    "    print(i)\n",
    "    i=i+1"
   ]
  },
  {
   "cell_type": "code",
   "execution_count": 4,
   "id": "dcce7b10",
   "metadata": {},
   "outputs": [
    {
     "name": "stdout",
     "output_type": "stream",
     "text": [
      "5\n",
      "4\n",
      "3\n",
      "2\n",
      "1\n",
      "0\n"
     ]
    }
   ],
   "source": [
    "i = 5\n",
    "while i>=0:\n",
    "    print(i)\n",
    "    i = i-1"
   ]
  },
  {
   "cell_type": "code",
   "execution_count": 5,
   "id": "ad4e39ce",
   "metadata": {},
   "outputs": [
    {
     "name": "stdout",
     "output_type": "stream",
     "text": [
      "1\n",
      "2\n",
      "3\n",
      "4\n",
      "5\n",
      "6\n",
      "7\n",
      "8\n",
      "9\n",
      "10\n"
     ]
    }
   ],
   "source": [
    "i = 1\n",
    "while i<=10:\n",
    "    print(i)\n",
    "    i+=1"
   ]
  },
  {
   "cell_type": "code",
   "execution_count": null,
   "id": "f06cbc1b",
   "metadata": {},
   "outputs": [],
   "source": [
    "sum = 0\n",
    "i = 0\n",
    "while i<=10:\n",
    "    sum = sum + i\n",
    "    i = i*1\n",
    "print(sum)"
   ]
  },
  {
   "cell_type": "code",
   "execution_count": 8,
   "id": "8b3029be",
   "metadata": {},
   "outputs": [
    {
     "name": "stdout",
     "output_type": "stream",
     "text": [
      "5! = 120\n"
     ]
    }
   ],
   "source": [
    "n = 5\n",
    "i = 1\n",
    "ans = 1\n",
    "\n",
    "while i<=n:\n",
    "    ans = ans*i\n",
    "    i = i+1\n",
    "print(f'{n}! = {ans}')"
   ]
  },
  {
   "cell_type": "markdown",
   "id": "3e99d323",
   "metadata": {},
   "source": [
    "number = 123\n",
    "koyta digit ase : 3\n",
    "\n",
    "1^3 + 2^3 + 3^3 = 123\n",
    "123 is a armstrong"
   ]
  },
  {
   "cell_type": "code",
   "execution_count": 12,
   "id": "c2016373",
   "metadata": {},
   "outputs": [
    {
     "name": "stdout",
     "output_type": "stream",
     "text": [
      "Enter a number = 371\n",
      "Armstrong\n"
     ]
    }
   ],
   "source": [
    "number = int(input(\"Enter a number = \"))\n",
    "# count the digits\n",
    "digits = 0\n",
    "temp = number\n",
    "\n",
    "while temp!=0:\n",
    "    digits += 1\n",
    "    temp = temp//10\n",
    "    \n",
    "armstrong_result = 0\n",
    "temp2 = number\n",
    "\n",
    "while temp2!=0:\n",
    "    armstrong_result += (temp2%10) ** digits\n",
    "    temp2 = temp2//10\n",
    "\n",
    "if armstrong_result == number:\n",
    "    print(\"Armstrong\")\n",
    "else:\n",
    "    print(\"Not armstrong\")"
   ]
  },
  {
   "cell_type": "code",
   "execution_count": 15,
   "id": "441018f4",
   "metadata": {},
   "outputs": [
    {
     "name": "stdout",
     "output_type": "stream",
     "text": [
      "153\n",
      "370\n",
      "371\n",
      "407\n"
     ]
    }
   ],
   "source": [
    "\n",
    "def isArmstrong(number):\n",
    "    # count the digits\n",
    "    digits = 0\n",
    "    temp = number\n",
    "\n",
    "    while temp!=0:\n",
    "        digits += 1\n",
    "        temp = temp//10\n",
    "\n",
    "    armstrong_result = 0\n",
    "    temp2 = number\n",
    "\n",
    "    while temp2!=0:\n",
    "        armstrong_result += (temp2%10) ** digits\n",
    "        temp2 = temp2//10\n",
    "\n",
    "    if armstrong_result == number:\n",
    "        return True\n",
    "    else:\n",
    "        return False\n",
    "    \n",
    "\n",
    "i = 100\n",
    "while i<=500:\n",
    "    if isArmstrong(i):\n",
    "        print(i)\n",
    "    i=i+1"
   ]
  },
  {
   "cell_type": "code",
   "execution_count": 16,
   "id": "b904d04e",
   "metadata": {},
   "outputs": [
    {
     "name": "stdout",
     "output_type": "stream",
     "text": [
      "<class 'int'>\n"
     ]
    }
   ],
   "source": [
    "# OOPS\n",
    "\n",
    "m = 5\n",
    "print(type(m))"
   ]
  },
  {
   "cell_type": "code",
   "execution_count": 19,
   "id": "a69b3f19",
   "metadata": {},
   "outputs": [],
   "source": [
    "class Main:\n",
    "    def __init__(self):\n",
    "        print(\"Class object initialized\")\n",
    "    "
   ]
  },
  {
   "cell_type": "code",
   "execution_count": 35,
   "id": "443bec60",
   "metadata": {},
   "outputs": [],
   "source": [
    "class Calculator:\n",
    "    def __init__(self, n1, n2):\n",
    "        self.n1 = n1\n",
    "        self.n2 = n2\n",
    "        print(\"Object initialized and two values collected for class\")\n",
    "    def add(self, l = int):\n",
    "        return self.n1+self.n2 - l\n",
    "    def minus(self):\n",
    "        return self.n1-self.n2\n",
    "    def multiply(self):\n",
    "        return self.n1*self.n2"
   ]
  },
  {
   "cell_type": "code",
   "execution_count": 36,
   "id": "dce30b30",
   "metadata": {},
   "outputs": [
    {
     "name": "stdout",
     "output_type": "stream",
     "text": [
      "Object initialized and two values collected for class\n"
     ]
    }
   ],
   "source": [
    "cobj = Calculator(5,3)"
   ]
  },
  {
   "cell_type": "code",
   "execution_count": 40,
   "id": "145c7a33",
   "metadata": {},
   "outputs": [
    {
     "data": {
      "text/plain": [
       "1"
      ]
     },
     "execution_count": 40,
     "metadata": {},
     "output_type": "execute_result"
    }
   ],
   "source": [
    "cobj.add(7)"
   ]
  },
  {
   "cell_type": "code",
   "execution_count": 41,
   "id": "31b95fc6",
   "metadata": {},
   "outputs": [
    {
     "data": {
      "text/plain": [
       "2"
      ]
     },
     "execution_count": 41,
     "metadata": {},
     "output_type": "execute_result"
    }
   ],
   "source": [
    "cobj.minus()"
   ]
  },
  {
   "cell_type": "code",
   "execution_count": 42,
   "id": "fa5bb5be",
   "metadata": {},
   "outputs": [
    {
     "data": {
      "text/plain": [
       "15"
      ]
     },
     "execution_count": 42,
     "metadata": {},
     "output_type": "execute_result"
    }
   ],
   "source": [
    "cobj.multiply()"
   ]
  },
  {
   "cell_type": "code",
   "execution_count": 43,
   "id": "8829e93b",
   "metadata": {},
   "outputs": [],
   "source": [
    "def f1():\n",
    "    return 6\n",
    "\n",
    "def f2():\n",
    "    print(6)"
   ]
  },
  {
   "cell_type": "code",
   "execution_count": 46,
   "id": "964f4fdd",
   "metadata": {},
   "outputs": [
    {
     "name": "stdout",
     "output_type": "stream",
     "text": [
      "6\n"
     ]
    }
   ],
   "source": [
    "v1 = f1()\n",
    "v2 = f2()"
   ]
  },
  {
   "cell_type": "code",
   "execution_count": 47,
   "id": "f7b16db5",
   "metadata": {},
   "outputs": [
    {
     "data": {
      "text/plain": [
       "9"
      ]
     },
     "execution_count": 47,
     "metadata": {},
     "output_type": "execute_result"
    }
   ],
   "source": [
    "v1+3"
   ]
  },
  {
   "cell_type": "code",
   "execution_count": 50,
   "id": "1ee6b89e",
   "metadata": {},
   "outputs": [
    {
     "name": "stdout",
     "output_type": "stream",
     "text": [
      "\u001b[H\u001b[2J"
     ]
    }
   ],
   "source": [
    "clear"
   ]
  },
  {
   "cell_type": "code",
   "execution_count": 61,
   "id": "a0777441",
   "metadata": {},
   "outputs": [],
   "source": [
    "class FastFoodApplication:\n",
    "    # constructor\n",
    "    def __init__(self, noOfPuri = int, torkariPlate = int):\n",
    "        self.noOfPuri = noOfPuri\n",
    "        self.torkariPlate = torkariPlate\n",
    "        self.price_of_1_puri = 7\n",
    "        self.price_of_1_torkari = 12\n",
    "        self.total = 0\n",
    "        \n",
    "    def addPuri(self,puri = int):\n",
    "        self.noOfPuri += puri\n",
    "    \n",
    "    def addTorkari(self,torkari = int):\n",
    "        self.torkariPlate += torkari\n",
    "    \n",
    "    def calculatePrice(self):\n",
    "        self.total += self.noOfPuri*self.price_of_1_puri + self.torkariPlate*self.price_of_1_torkari\n",
    "        return self.total\n",
    "        "
   ]
  },
  {
   "cell_type": "code",
   "execution_count": 67,
   "id": "5f194719",
   "metadata": {},
   "outputs": [],
   "source": [
    "shayanObj = FastFoodApplication(noOfPuri=2,torkariPlate=1)"
   ]
  },
  {
   "cell_type": "code",
   "execution_count": 68,
   "id": "3b938bf6",
   "metadata": {},
   "outputs": [],
   "source": [
    "shayanObj.addPuri(3)"
   ]
  },
  {
   "cell_type": "code",
   "execution_count": 69,
   "id": "9fa0819e",
   "metadata": {},
   "outputs": [],
   "source": [
    "shayanObj.addTorkari(1)"
   ]
  },
  {
   "cell_type": "code",
   "execution_count": 70,
   "id": "e1376e52",
   "metadata": {},
   "outputs": [
    {
     "data": {
      "text/plain": [
       "59"
      ]
     },
     "execution_count": 70,
     "metadata": {},
     "output_type": "execute_result"
    }
   ],
   "source": [
    "shayanObj.calculatePrice()"
   ]
  },
  {
   "cell_type": "code",
   "execution_count": 66,
   "id": "75744e36",
   "metadata": {},
   "outputs": [
    {
     "data": {
      "text/plain": [
       "''"
      ]
     },
     "execution_count": 66,
     "metadata": {},
     "output_type": "execute_result"
    }
   ],
   "source": [
    "\"\"\"\n",
    "1. chicken curry : 170\n",
    "2. mutton kasha : 350\n",
    "3. butter naan : 50\n",
    "4. jira rice : 140\n",
    "\n",
    "add_item()\n",
    "\n",
    "1. chicken curry\n",
    "2. mutton kasha\n",
    "3. butter naan\n",
    "4. jira rice\n",
    "\n",
    "\n",
    "admin_add_price()\n",
    "\n",
    "enter your username : admin\n",
    "enter your password : admin\n",
    "\n",
    "what item you want to add? : mughlai\n",
    "what should be the price of 1 plate? : 250\n",
    "\n",
    "\n",
    "add_item():\n",
    "\n",
    "\n",
    "price : 5% GST (2.5% SGST, 2.5% CGST)\n",
    "\n",
    "Food price : 150\n",
    "SGST :\n",
    "CGST :\n",
    "Total : \n",
    "\"\"\"\n",
    "\n"
   ]
  },
  {
   "cell_type": "code",
   "execution_count": null,
   "id": "f38596cf",
   "metadata": {},
   "outputs": [],
   "source": []
  }
 ],
 "metadata": {
  "kernelspec": {
   "display_name": "Python 3 (ipykernel)",
   "language": "python",
   "name": "python3"
  },
  "language_info": {
   "codemirror_mode": {
    "name": "ipython",
    "version": 3
   },
   "file_extension": ".py",
   "mimetype": "text/x-python",
   "name": "python",
   "nbconvert_exporter": "python",
   "pygments_lexer": "ipython3",
   "version": "3.10.9"
  }
 },
 "nbformat": 4,
 "nbformat_minor": 5
}
